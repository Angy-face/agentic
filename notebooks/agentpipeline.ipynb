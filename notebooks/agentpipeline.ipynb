{
 "cells": [
  {
   "cell_type": "code",
   "execution_count": 1,
   "id": "7167f3a1",
   "metadata": {},
   "outputs": [],
   "source": [
    "from typing import Annotated,Literal\n",
    "from langgraph.graph import StateGraph,START,END\n",
    "from langgraph.graph.message import add_messages\n",
    "from pydantic import BaseModel,Field\n",
    "from typing_extensions import TypedDict"
   ]
  },
  {
   "cell_type": "markdown",
   "id": "6b21df93",
   "metadata": {},
   "source": [
    "# Basic Agents function"
   ]
  },
  {
   "cell_type": "code",
   "execution_count": null,
   "id": "72894710",
   "metadata": {},
   "outputs": [],
   "source": [
    "from transformers import AutoTokenizer, AutoModelForSequenceClassification\n",
    "# Load tokenizer and model\n",
    "model_name = \"/home/siamai/data/Focus/agentic/notebooks/model/xlm_routing\"\n",
    "tokenizer = AutoTokenizer.from_pretrained(model_name)\n",
    "model = AutoModelForSequenceClassification.from_pretrained(model_name, num_labels=2)\n",
    "\n",
    "def classify_xlm(text:str):\n",
    "    dict = {0:\"multiple\",1:\"prediction\"}\n",
    "    inputs = tokenizer(text, padding=True, truncation=True, return_tensors=\"pt\")\n",
    "    outputs = model(**inputs)\n",
    "    logits = outputs.logits.argmax(dim=1)\n",
    "    return dict[logits.item()]"
   ]
  },
  {
   "cell_type": "markdown",
   "id": "0e30f2dd",
   "metadata": {},
   "source": [
    "# Function with Langgraph"
   ]
  },
  {
   "cell_type": "code",
   "execution_count": 78,
   "id": "277418bb",
   "metadata": {},
   "outputs": [],
   "source": [
    "class MessageClassifier(BaseModel):\n",
    "    message_type: Literal[\"multiple\",\"prediction\"] = Field(\n",
    "        ...,\n",
    "        description=\"Classify if the message is multiple or prediction\",\n",
    "    )\n",
    "\n",
    "class State(TypedDict):\n",
    "    message: str\n",
    "    message_type: str | None\n",
    "\n",
    "def classify_message(state: State) -> State:\n",
    "    messsage = state[\"message\"]\n",
    "    message_type = classify_xlm(messsage)\n",
    "    validated_type = MessageClassifier(message_type=message_type) \n",
    "    return {\"message_type\":validated_type.message_type}\n",
    "\n",
    "def router(state: State) -> State:\n",
    "    message_type = state.get(\"message_type\",\"default\")\n",
    "    \n",
    "    if message_type == \"multiple\":\n",
    "        return {\"next\":\"multiple\"}\n",
    "\n",
    "    return {\"next\":\"prediction\"}\n",
    "\n",
    "def prediction_agent(state: State) -> State:\n",
    "    message = state[\"message\"]\n",
    "    message = f\"Hello User I'm a prediction_agent agent!\"\n",
    "    return {\"message\":[message]}\n",
    "\n",
    "def multiple_agent(state: State) -> State:\n",
    "    message = state[\"message\"]\n",
    "    message = f\"Hello User I'm a multiple_agent agent!\"\n",
    "    return {\"message\":[message]}\n",
    "\n",
    "graph_builder = StateGraph(State)\n",
    "\n",
    "graph_builder.add_node(\"classifier\",classify_message)\n",
    "graph_builder.add_node(\"router\",router)\n",
    "graph_builder.add_node(\"prediction_agent\",prediction_agent)\n",
    "graph_builder.add_node(\"multiple_agent\",multiple_agent)\n",
    "\n",
    "graph_builder.add_edge(START,\"classifier\")\n",
    "graph_builder.add_edge(\"classifier\",\"router\")\n",
    "\n",
    "graph_builder.add_conditional_edges(\n",
    "    \"router\",\n",
    "    lambda state: state.get(\"next\"),\n",
    "    {\n",
    "        \"prediction\": \"prediction_agent\",\n",
    "        \"multiple\": \"multiple_agent\"\n",
    "    }\n",
    ")\n",
    "graph_builder.add_edge(\"prediction_agent\",END)\n",
    "graph_builder.add_edge(\"multiple_agent\",END)\n",
    "graph = graph_builder.compile()"
   ]
  },
  {
   "cell_type": "code",
   "execution_count": 90,
   "id": "a219630b",
   "metadata": {},
   "outputs": [
    {
     "name": "stdout",
     "output_type": "stream",
     "text": [
      "User input: ตอบคำถามด้วยตัวเลือกที่เหมาะสม A, B, C และ D กรุณาตอบด้วยคำตอบที่ถูกต้อง A, B, C หรือ D เท่านั้น ห้ามใช้คำฟุ่มเฟือยหรือให้ข้อมูลเพิ่มเติม\n",
      "\n",
      "คำถาม: เมื่อมีธุรกิจล้มเหลวและอัตราการว่างงานสูง วงจรธุรกิจจะอยู่ในช่วงใด\n",
      "\n",
      "ตัวเลือก: A: การขยายตัว, B: จุดสูงสุด, C: การฟื้นตัว, D: จุดต่ำสุด\n",
      "\n",
      "คำตอบ:\n"
     ]
    },
    {
     "data": {
      "text/plain": [
       "{'message': [\"Hello User I'm a multiple_agent agent!\"],\n",
       " 'message_type': 'multiple'}"
      ]
     },
     "execution_count": 90,
     "metadata": {},
     "output_type": "execute_result"
    }
   ],
   "source": [
    "#randomly select row from dataframe as input\n",
    "import pandas as pd\n",
    "\n",
    "df = pd.read_csv(\"/home/siamai/data/Focus/agentic/data/test.csv\")\n",
    "user_input = df.sample(n=1).iloc[0][\"query\"]\n",
    "print(f\"User input: {user_input}\")\n",
    "state = graph.invoke({\"message\":[user_input]})              \n",
    "state"
   ]
  },
  {
   "cell_type": "code",
   "execution_count": 80,
   "id": "db3d4eb6",
   "metadata": {},
   "outputs": [
    {
     "data": {
      "image/png": "[encoded data removed]",
      "text/plain": [
       "<IPython.core.display.Image object>"
      ]
     },
     "metadata": {},
     "output_type": "display_data"
    }
   ],
   "source": [
    "from IPython.display import Image, display\n",
    "\n",
    "display(Image(graph.get_graph().draw_mermaid_png(max_retries=10)))"
   ]
  },
  {
   "cell_type": "code",
   "execution_count": null,
   "id": "b1b3bdd4",
   "metadata": {},
   "outputs": [
    {
     "name": "stderr",
     "output_type": "stream",
     "text": [
      "huggingface/tokenizers: The current process just got forked, after parallelism has already been used. Disabling parallelism to avoid deadlocks...\n",
      "To disable this warning, you can either:\n",
      "\t- Avoid using `tokenizers` before the fork if possible\n",
      "\t- Explicitly set the environment variable TOKENIZERS_PARALLELISM=(true | false)\n"
     ]
    },
    {
     "name": "stdout",
     "output_type": "stream",
     "text": [
      "Warning: Your Kaggle API key is readable by other users on this system! To fix this, you can run 'chmod 600 /home/siamai/.config/kaggle/kaggle.json'\n",
      "100%|██████████████████████████████████████| 19.3k/19.3k [00:00<00:00, 22.6kB/s]\n",
      "Successfully submitted to Financial Analysis Agent Hackathon"
     ]
    }
   ],
   "source": [
    "# !kaggle competitions submit -c financial-analysis-agent -f /home/siamai/data/Penguin/week8/baseline.csv -m \"Typhoon-8b-zeroshot-cleaned\""
   ]
  }
 ],
 "metadata": {
  "kernelspec": {
   "display_name": ".venv",
   "language": "python",
   "name": "python3"
  },
  "language_info": {
   "codemirror_mode": {
    "name": "ipython",
    "version": 3
   },
   "file_extension": ".py",
   "mimetype": "text/x-python",
   "name": "python",
   "nbconvert_exporter": "python",
   "pygments_lexer": "ipython3",
   "version": "3.13.2"
  }
 },
 "nbformat": 4,
 "nbformat_minor": 5
}
