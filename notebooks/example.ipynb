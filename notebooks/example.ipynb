{
 "cells": [
  {
   "cell_type": "code",
   "execution_count": null,
   "id": "b6acab33",
   "metadata": {},
   "outputs": [],
   "source": [
    "from typing import Annotated,Literal\n",
    "from langgraph.graph import StateGraph,START,END\n",
    "from langgraph.graph.message import add_messages\n",
    "from pydantic import BaseModel,Field\n",
    "from typing_extensions import TypedDict"
   ]
  },
  {
   "cell_type": "markdown",
   "id": "3f6e0c27",
   "metadata": {},
   "source": [
    "# Simple Agent"
   ]
  },
  {
   "cell_type": "code",
   "execution_count": 47,
   "id": "5a55fe89",
   "metadata": {},
   "outputs": [
    {
     "data": {
      "text/plain": [
       "<langgraph.graph.state.StateGraph at 0x7f49cd47fb50>"
      ]
     },
     "execution_count": 47,
     "metadata": {},
     "output_type": "execute_result"
    }
   ],
   "source": [
    "class State(TypedDict):\n",
    "    message: Annotated[list,add_messages]\n",
    "\n",
    "graph_builder = StateGraph(State)\n",
    "\n",
    "def chatbot(state: State) -> State:\n",
    "    return {\"message\":[f\"Hello User ! {state['message'][-1].content}\"]}\n",
    "\n",
    "graph_builder.add_node(\"chatbot1\",chatbot)\n",
    "\n",
    "graph_builder.add_edge(START,\"chatbot1\")\n",
    "graph_builder.add_edge(\"chatbot1\",END)"
   ]
  },
  {
   "cell_type": "code",
   "execution_count": 48,
   "id": "8187cb7f",
   "metadata": {},
   "outputs": [
    {
     "name": "stdout",
     "output_type": "stream",
     "text": [
      "Hello User ! Focus\n"
     ]
    }
   ],
   "source": [
    "graph = graph_builder.compile()\n",
    "user_input = \"Focus\"\n",
    "state = graph.invoke({\"message\":[{\"role\":\"user\",\n",
    "                    \"content\":user_input}]})\n",
    "                    \n",
    "print(state[\"message\"][-1].content)"
   ]
  },
  {
   "cell_type": "code",
   "execution_count": 49,
   "id": "5e8f91fd",
   "metadata": {},
   "outputs": [
    {
     "data": {
      "image/png": "[encoded data removed]",
      "text/plain": [
       "<IPython.core.display.Image object>"
      ]
     },
     "metadata": {},
     "output_type": "display_data"
    }
   ],
   "source": [
    "from IPython.display import Image, display\n",
    "\n",
    "display(Image(graph.get_graph().draw_mermaid_png()))"
   ]
  },
  {
   "cell_type": "markdown",
   "id": "a70753c1",
   "metadata": {},
   "source": [
    "# Routing"
   ]
  },
  {
   "cell_type": "code",
   "execution_count": 50,
   "id": "40fe3ebd",
   "metadata": {},
   "outputs": [
    {
     "name": "stdout",
     "output_type": "stream",
     "text": [
      "emotional\n"
     ]
    }
   ],
   "source": [
    "msg = MessageClassifier(message_type=\"emotional\")\n",
    "print(msg.message_type)\n",
    "# Output: emotional"
   ]
  },
  {
   "cell_type": "code",
   "execution_count": null,
   "id": "7de811cd",
   "metadata": {},
   "outputs": [],
   "source": [
    "class MessageClassifier(BaseModel):\n",
    "    message_type: Literal[\"emotional\",\"logical\"] = Field(\n",
    "        ...,\n",
    "        description=\"Classify if the message require an emotional(therapist) or logical response\"\n",
    "    )\n",
    "\n",
    "class State(TypedDict):\n",
    "    message: Annotated[list,add_messages]\n",
    "    message_type: str | None\n",
    "\n",
    "def classify_message(state: State) -> State:\n",
    "    last_message = state[\"message\"][-1]\n",
    "    classifier_llm = MessageClassifier(message_type=last_message.content) #must write classifier llm/basic encoder\n",
    "    result = classifier_llm\n",
    "    return {\"message_type\":result.message_type} #will auto update in State\n",
    "\n",
    "def router(state: State) -> State:\n",
    "    message_type = state.get(\"message_type\",\"default\")\n",
    "    if message_type == \"emotional\":\n",
    "        return {\"next\":\"therapist\"}\n",
    "\n",
    "    return {\"next\":\"logical\"}\n",
    "\n",
    "def therapist_agent(state: State) -> State:\n",
    "    last_message = state[\"message\"][-1]\n",
    "    message = f\"Hello User I'm a therapist agent! {last_message.content}\"\n",
    "    return {\"message\":[message]}\n",
    "\n",
    "def logical_agent(state: State) -> State:\n",
    "    last_message = state[\"message\"][-1]\n",
    "    message = f\"Hello User I'm a logical agent ! {last_message.content}\"\n",
    "    return {\"message\":[message]}\n",
    "\n",
    "graph_builder = StateGraph(State)\n",
    "\n",
    "graph_builder.add_node(\"classifier\",classify_message)\n",
    "graph_builder.add_node(\"router\",router)\n",
    "graph_builder.add_node(\"logical_agent\",logical_agent)\n",
    "graph_builder.add_node(\"therapist_agent\",therapist_agent)\n",
    "\n",
    "graph_builder.add_edge(START,\"classifier\")\n",
    "graph_builder.add_edge(\"classifier\",\"router\")\n",
    "\n",
    "graph_builder.add_conditional_edges(\n",
    "    \"router\",\n",
    "    lambda state: state.get(\"next\"),\n",
    "    {\n",
    "        \"logical\": \"logical_agent\",\n",
    "        \"therapist\": \"therapist_agent\"\n",
    "    }\n",
    ")\n",
    "graph_builder.add_edge(\"logical_agent\",END)\n",
    "graph_builder.add_edge(\"therapist_agent\",END)\n",
    "graph = graph_builder.compile()"
   ]
  },
  {
   "cell_type": "code",
   "execution_count": 57,
   "id": "bdc16022",
   "metadata": {},
   "outputs": [
    {
     "name": "stdout",
     "output_type": "stream",
     "text": [
      "Hello User I'm a therapist agent! emotional\n"
     ]
    }
   ],
   "source": [
    "user_input = \"emotional\"\n",
    "state = graph.invoke({\"message\":[{\"role\":\"user\",\n",
    "                    \"content\":user_input}]})\n",
    "                    \n",
    "print(state[\"message\"][-1].content)"
   ]
  },
  {
   "cell_type": "code",
   "execution_count": 58,
   "id": "b047d4e0",
   "metadata": {},
   "outputs": [
    {
     "data": {
      "image/png": "[encoded data removed]",
      "text/plain": [
       "<IPython.core.display.Image object>"
      ]
     },
     "metadata": {},
     "output_type": "display_data"
    }
   ],
   "source": [
    "from IPython.display import Image, display\n",
    "\n",
    "display(Image(graph.get_graph().draw_mermaid_png(max_retries=10)))"
   ]
  }
 ],
 "metadata": {
  "kernelspec": {
   "display_name": ".venv",
   "language": "python",
   "name": "python3"
  },
  "language_info": {
   "codemirror_mode": {
    "name": "ipython",
    "version": 3
   },
   "file_extension": ".py",
   "mimetype": "text/x-python",
   "name": "python",
   "nbconvert_exporter": "python",
   "pygments_lexer": "ipython3",
   "version": "3.13.2"
  }
 },
 "nbformat": 4,
 "nbformat_minor": 5
}
