{
 "cells": [
  {
   "cell_type": "code",
   "execution_count": 25,
   "id": "b6acab33",
   "metadata": {},
   "outputs": [],
   "source": [
    "from typing import Annotated,Literal\n",
    "from langgraph.graph import StateGraph,START,END\n",
    "from langgraph.graph.message import add_messages\n",
    "from pydantic import BaseModel,Field\n",
    "from typing_extensions import TypedDict"
   ]
  },
  {
   "cell_type": "markdown",
   "id": "447a9e07",
   "metadata": {},
   "source": [
    "# Simple 1 Agent"
   ]
  },
  {
   "cell_type": "code",
   "execution_count": 26,
   "id": "6ffc95c2",
   "metadata": {},
   "outputs": [
    {
     "data": {
      "text/plain": [
       "<langgraph.graph.state.StateGraph at 0x7f49ce5596a0>"
      ]
     },
     "execution_count": 26,
     "metadata": {},
     "output_type": "execute_result"
    }
   ],
   "source": [
    "class State(TypedDict):\n",
    "    message: Annotated[list,add_messages]\n",
    "\n",
    "graph_builder = StateGraph(State)\n",
    "\n",
    "def chatbot(state: State) -> State:\n",
    "    return {\"message\":[f\"Hello User ! {state['message'][-1].content}\"]}\n",
    "\n",
    "graph_builder.add_node(\"chatbot1\",chatbot)\n",
    "\n",
    "graph_builder.add_edge(START,\"chatbot1\")\n",
    "graph_builder.add_edge(\"chatbot1\",END)"
   ]
  },
  {
   "cell_type": "code",
   "execution_count": 27,
   "id": "6cd5fdbc",
   "metadata": {},
   "outputs": [
    {
     "name": "stdout",
     "output_type": "stream",
     "text": [
      "Hello User ! Focus\n"
     ]
    }
   ],
   "source": [
    "graph = graph_builder.compile()\n",
    "user_input = \"Focus\"\n",
    "state = graph.invoke({\"message\":[{\"role\":\"user\",\n",
    "                    \"content\":user_input}]})\n",
    "                    \n",
    "print(state[\"message\"][-1].content)"
   ]
  },
  {
   "cell_type": "code",
   "execution_count": 28,
   "id": "c664c5fe",
   "metadata": {},
   "outputs": [
    {
     "data": {
      "image/png": "[encoded data removed]",
      "text/plain": [
       "<IPython.core.display.Image object>"
      ]
     },
     "metadata": {},
     "output_type": "display_data"
    }
   ],
   "source": [
    "from IPython.display import Image, display\n",
    "\n",
    "display(Image(graph.get_graph().draw_mermaid_png()))"
   ]
  },
  {
   "cell_type": "markdown",
   "id": "d213379d",
   "metadata": {},
   "source": [
    "# Agents with router"
   ]
  },
  {
   "cell_type": "markdown",
   "id": "ad6f3e3b",
   "metadata": {},
   "source": []
  }
 ],
 "metadata": {
  "kernelspec": {
   "display_name": ".venv",
   "language": "python",
   "name": "python3"
  },
  "language_info": {
   "codemirror_mode": {
    "name": "ipython",
    "version": 3
   },
   "file_extension": ".py",
   "mimetype": "text/x-python",
   "name": "python",
   "nbconvert_exporter": "python",
   "pygments_lexer": "ipython3",
   "version": "3.13.2"
  }
 },
 "nbformat": 4,
 "nbformat_minor": 5
}
