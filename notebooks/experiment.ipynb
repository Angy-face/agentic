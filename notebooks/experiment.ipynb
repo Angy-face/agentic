{
 "cells": [
  {
   "cell_type": "markdown",
   "id": "79c773a0",
   "metadata": {},
   "source": [
    "# Create label for Routing"
   ]
  },
  {
   "cell_type": "code",
   "execution_count": null,
   "id": "a5ea38fa",
   "metadata": {},
   "outputs": [],
   "source": [
    "def rule_based_classify(text):\n",
    "    # คำสำคัญที่แสดงถึงการคาดการณ์ (prediction)\n",
    "    prediction_keywords = [\n",
    "        \"อ่านคำถาม\",\"ตอบคำถาม\",\"Read the\",\"Answer the\"\n",
    "    ]\n",
    "\n",
    "    # ตรวจสอบว่าในข้อความมีคำคาดการณ์หรือไม่\n",
    "    if any(keyword in text for keyword in prediction_keywords):\n",
    "        return \"multiple\"\n",
    "    return \"prediction\"\n",
    "\n",
    "#fucntion to split text by \\n and merge after first array with space\n",
    "#remove specific keyword after join\n",
    "remove = [\"คำถาม\",\"Question\",\":\",\"Q\",\"บริบท\",\"Context\",\"Answer\",\"คำตอบ\"]\n",
    "def split_text(text):\n",
    "    text = text.split(\"\\n\")\n",
    "    text = \" \".join(text[1:])\n",
    "    for i in remove:\n",
    "        text = text.replace(i,\"\")\n",
    "    return text"
   ]
  },
  {
   "cell_type": "code",
   "execution_count": null,
   "id": "73b3c1f2",
   "metadata": {},
   "outputs": [],
   "source": [
    "import pandas as pd\n",
    "\n",
    "test = pd.read_csv('/home/siamai/data/Focus/agentic/data/test.csv')\n",
    "# Apply the classifier\n",
    "test[\"message_type\"] = test[\"query\"].apply(rule_based_classify)\n",
    "test[\"message_sliced\"] = test[\"query\"].apply(split_text)\n",
    "test"
   ]
  },
  {
   "cell_type": "code",
   "execution_count": null,
   "id": "730c1bdd",
   "metadata": {},
   "outputs": [],
   "source": [
    "from transformers import AutoTokenizer, AutoModelForSequenceClassification, TrainingArguments, Trainer\n",
    "from datasets import Dataset\n",
    "import pandas as pd\n",
    "\n",
    "# Prepare dataset\n",
    "df = test.copy()\n",
    "df[\"labels\"] = df[\"message_type\"].apply(lambda x: 1 if x == \"prediction\" else 0)  # MUST be 'labels'\n",
    "\n",
    "# Convert to Hugging Face Dataset\n",
    "dataset = Dataset.from_pandas(df)\n",
    "\n",
    "# Load tokenizer and model\n",
    "model_name = \"xlm-roberta-base\"\n",
    "tokenizer = AutoTokenizer.from_pretrained(model_name)\n",
    "model = AutoModelForSequenceClassification.from_pretrained(model_name, num_labels=2)\n",
    "\n",
    "# Tokenizer function that includes 'labels'\n",
    "def tokenize(example):\n",
    "    tokens = tokenizer(example[\"message_sliced\"], truncation=True, padding=\"max_length\")\n",
    "    tokens[\"labels\"] = example[\"labels\"]  # ✅ Add labels here\n",
    "    return tokens\n",
    "\n",
    "# Tokenize\n",
    "tokenized_dataset = dataset.map(tokenize)\n",
    "\n",
    "# Split\n",
    "split_dataset = tokenized_dataset.train_test_split(test_size=0.6)\n",
    "train_dataset = split_dataset[\"train\"]\n",
    "eval_dataset = split_dataset[\"test\"]\n",
    "\n",
    "# Training arguments\n",
    "training_args = TrainingArguments(\n",
    "    output_dir=None,\n",
    "    per_device_train_batch_size=16,\n",
    "    num_train_epochs=3,\n",
    "    eval_strategy=\"steps\",\n",
    "    eval_steps=20,\n",
    "    save_steps=100,\n",
    "    save_total_limit=1,\n",
    "    load_best_model_at_end=True,\n",
    "    report_to=\"none\"\n",
    ")\n",
    "\n",
    "# Optional: Accuracy metric\n",
    "from sklearn.metrics import accuracy_score,f1_score\n",
    "\n",
    "def compute_metrics(eval_pred):\n",
    "    logits, labels = eval_pred\n",
    "    preds = logits.argmax(axis=1)\n",
    "    return {\"accuracy\": accuracy_score(labels, preds),\n",
    "            \"f1_score\":f1_score(labels, preds)}\n",
    "\n",
    "# Trainer\n",
    "trainer = Trainer(\n",
    "    model=model,\n",
    "    args=training_args,\n",
    "    train_dataset=train_dataset,\n",
    "    eval_dataset=eval_dataset,\n",
    "    compute_metrics=compute_metrics\n",
    ")\n",
    "\n",
    "# Train\n",
    "trainer.train()"
   ]
  },
  {
   "cell_type": "code",
   "execution_count": null,
   "id": "53e4c084",
   "metadata": {},
   "outputs": [],
   "source": [
    "model.save_pretrained(\"../model/xlm_routing\")\n",
    "tokenizer.save_pretrained(\"../model/xlm_routing\")"
   ]
  },
  {
   "cell_type": "code",
   "execution_count": null,
   "id": "09af7e4f",
   "metadata": {},
   "outputs": [],
   "source": [
    "#plot confusion matrix\n",
    "from sklearn.metrics import confusion_matrix\n",
    "\n",
    "predictions, _, _ = trainer.predict(eval_dataset)\n",
    "y_pred = predictions.argmax(axis=1)\n",
    "\n",
    "cm = confusion_matrix(eval_dataset[\"labels\"], y_pred)\n",
    "cm"
   ]
  }
 ],
 "metadata": {
  "kernelspec": {
   "display_name": ".venv",
   "language": "python",
   "name": "python3"
  },
  "language_info": {
   "codemirror_mode": {
    "name": "ipython",
    "version": 3
   },
   "file_extension": ".py",
   "mimetype": "text/x-python",
   "name": "python",
   "nbconvert_exporter": "python",
   "pygments_lexer": "ipython3",
   "version": "3.13.2"
  }
 },
 "nbformat": 4,
 "nbformat_minor": 5
}
